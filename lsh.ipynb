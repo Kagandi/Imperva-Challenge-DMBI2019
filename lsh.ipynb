{
 "cells": [
  {
   "cell_type": "code",
   "execution_count": 1,
   "metadata": {},
   "outputs": [
    {
     "name": "stdout",
     "output_type": "stream",
     "text": [
      "Modules to reload:\n",
      "all-except-skipped\n",
      "\n",
      "Modules to skip:\n",
      "\n"
     ]
    }
   ],
   "source": [
    "%load_ext autoreload\n",
    "%autoreload 2\n",
    "%aimport\n",
    "%matplotlib inline"
   ]
  },
  {
   "cell_type": "code",
   "execution_count": 39,
   "metadata": {},
   "outputs": [],
   "source": [
    "import concurrent"
   ]
  },
  {
   "cell_type": "code",
   "execution_count": 2,
   "metadata": {},
   "outputs": [],
   "source": [
    "import pandas as pd"
   ]
  },
  {
   "cell_type": "code",
   "execution_count": 23,
   "metadata": {},
   "outputs": [
    {
     "name": "stderr",
     "output_type": "stream",
     "text": [
      "\n",
      "  0%|          | 308/100000 [00:25<1:12:56, 22.78it/s]\u001b[A"
     ]
    }
   ],
   "source": [
    "from tqdm import tqdm_notebook as tqdm"
   ]
  },
  {
   "cell_type": "code",
   "execution_count": 4,
   "metadata": {},
   "outputs": [],
   "source": [
    "from pathlib import Path"
   ]
  },
  {
   "cell_type": "code",
   "execution_count": 232,
   "metadata": {},
   "outputs": [],
   "source": [
    "import scipy.stats\n",
    "def ent(data):\n",
    "    \"\"\"Calculates entropy of the passed `pd.Series`\n",
    "    \"\"\"\n",
    "    p_data = data.value_counts()           # counts occurrence of each value\n",
    "    entropy = scipy.stats.entropy(p_data)  # get entropy from counts\n",
    "    return entropy"
   ]
  },
  {
   "cell_type": "code",
   "execution_count": 235,
   "metadata": {},
   "outputs": [],
   "source": [
    "def get_entropy(x_train):\n",
    "    cols = list(x_train.columns)\n",
    "    entropies = []\n",
    "    for column in cols:\n",
    "        series = x_train[column]\n",
    "        entropy = ent(series)\n",
    "        column_entropy = (column, entropy)\n",
    "        entropies.append(column_entropy)\n",
    "    entropy_df = pd.DataFrame(entropies, columns=['Feature', 'Entropy'])\n",
    "    sorted_entropy_df = entropy_df.sort_values(by=['Entropy'], ascending=False)\n",
    "    return sorted_entropy_df\n",
    "#     higher_entropy_df = sorted_entropy_df[sorted_entropy_df['Entropy'] > 0]\n",
    "\n",
    "#     zero_entropy_df = sorted_entropy_df[sorted_entropy_df['Entropy'] == 0]\n",
    "\n",
    "#     zero_entropy_feature_series = zero_entropy_df['Feature']\n",
    "#     zero_entropy_feature_names = zero_entropy_feature_series.tolist()\n",
    "#     x_train = x_train.drop(zero_entropy_feature_names, axis=1)\n",
    "#     return x_train\n"
   ]
  },
  {
   "cell_type": "code",
   "execution_count": 5,
   "metadata": {},
   "outputs": [],
   "source": [
    "data_path = Path(\"Data\")"
   ]
  },
  {
   "cell_type": "code",
   "execution_count": 6,
   "metadata": {},
   "outputs": [
    {
     "data": {
      "text/plain": [
       "[PosixPath('Data/dmbi-2019-datahack-device-fingerprinting-imperva.zip'),\n",
       " PosixPath('Data/train_data.zip'),\n",
       " PosixPath('Data/auxiliary_train.zip'),\n",
       " PosixPath('Data/test_set.zip'),\n",
       " PosixPath('Data/test_set.csv'),\n",
       " PosixPath('Data/train_data.csv'),\n",
       " PosixPath('Data/auxilary_training_data.csv')]"
      ]
     },
     "execution_count": 6,
     "metadata": {},
     "output_type": "execute_result"
    }
   ],
   "source": [
    "list(data_path.iterdir())"
   ]
  },
  {
   "cell_type": "code",
   "execution_count": 7,
   "metadata": {},
   "outputs": [],
   "source": [
    "train_path = data_path/'train_data.csv'"
   ]
  },
  {
   "cell_type": "code",
   "execution_count": 239,
   "metadata": {},
   "outputs": [
    {
     "name": "stderr",
     "output_type": "stream",
     "text": [
      "/storage/homedir/dima/miniconda3/envs/promed/lib/python3.6/site-packages/IPython/core/interactiveshell.py:3049: DtypeWarning: Columns (13,23,50,51,58,89,93,106,131,136,139,140,141,142,143,144,145,228,229,239,240,241,242,243,244,245,247,249,256,257,258,259,260,261,262,263,265,267,268,269,270,271,272,273,274,275,276,277,278,279,280,281,282,283,284,285,286,287,288,289,290,291,292,293,294,295,296,297,298,299,300,301,302,303,304,305,306,307,308,309,310,311,312,313,314,315,316,317,318,319,320,321,325,326,327,328,329,330,331,332,333,334,335,336,337,338,339,340,341,351,352,353,354,355,366,367,368,369,370,371,372,373,374,375,387,388,390,391,392,393,394,395,396,397,401,404,408,409,410,411,412,413,414,415,416,417,419,420,421,423,424,425,426,427,429,435,436,443,444,446,447,454,455,457,458,459,460,461,462,463,465,467,468,470,471,472,473,474,476,477,478,479,480,481,483,484,485,486,487,488,489,490,491,492,493,494,495,496,497,498,499,500,501,502,504,506,508,510,512,513,514,515,516,517,519,520,523,524,527,528,529,530,531,532,533,534,535,536,537,538,549,550,552,553,566,568,569,570,571,572,573,574,575,576,577,578,579,580,581,582,583,584,585,586,587,588,589,590,591,592,593,594,596,598,599,600,601,602,603,604,606,610,611,612,613,614,622,623,624,625,626,627,628,629,630,631,632,633,634,635,636,637,638,639,640,641,642,643,644,645,646,647,648,649,650,651,653,655,657,659,670,671,672,673,674,681,682,684,685,688,689,691,692,693,694,696,697,698,699,701,702,703,704,705,706,718,719,720,721,722,779) have mixed types. Specify dtype option on import or set low_memory=False.\n",
      "  interactivity=interactivity, compiler=compiler, result=result)\n"
     ]
    }
   ],
   "source": [
    "train_df = pd.read_csv(train_path)"
   ]
  },
  {
   "cell_type": "code",
   "execution_count": 240,
   "metadata": {},
   "outputs": [],
   "source": [
    "train_df = train_df.drop(\"user.id.1\", axis=1)"
   ]
  },
  {
   "cell_type": "code",
   "execution_count": 1603,
   "metadata": {},
   "outputs": [
    {
     "data": {
      "text/plain": [
       "122454"
      ]
     },
     "execution_count": 1603,
     "metadata": {},
     "output_type": "execute_result"
    }
   ],
   "source": [
    "len(train_df)"
   ]
  },
  {
   "cell_type": "code",
   "execution_count": 9,
   "metadata": {},
   "outputs": [
    {
     "name": "stderr",
     "output_type": "stream",
     "text": [
      "/storage/homedir/dima/miniconda3/envs/promed/lib/python3.6/site-packages/IPython/core/interactiveshell.py:3049: DtypeWarning: Columns (92,105,130,227,228,260,261,263,265,266,267,268,269,270,271,272,273,274,275,276,277,278,279,280,281,282,283,284,285,286,287,288,289,290,291,292,293,294,295,296,297,298,299,300,301,302,303,304,315,316,317,318,319,323,324,325,326,327,335,336,337,338,339,343,344,346,347,348,349,350,351,352,353,354,355,356,357,358,359,360,361,362,363,364,365,366,367,368,369,370,371,372,373,385,386,388,389,409,410,411,412,413,433,434,441,442,444,445,452,453,455,456,463,465,466,468,469,470,478,479,481,482,483,494,495,496,497,498,499,511,512,513,514,515,531,547,548,550,551,571,608,609,610,611,612,711,712,713,714,715,716,717,718,719,720,870,883,908,1005,1006,1038,1039,1041,1043,1044,1045,1046,1047,1048,1049,1050,1051,1052,1053,1054,1055,1056,1057,1058,1059,1060,1061,1062,1063,1064,1065,1066,1067,1068,1069,1070,1071,1072,1073,1074,1075,1076,1077,1078,1079,1080,1081,1082,1093,1094,1095,1096,1097,1101,1102,1103,1104,1105,1106,1113,1114,1115,1116,1117,1121,1122,1124,1125,1126,1127,1128,1129,1130,1131,1132,1133,1134,1135,1136,1137,1138,1139,1140,1141,1142,1143,1144,1145,1146,1147,1148,1149,1150,1151,1163,1164,1166,1167,1187,1188,1189,1190,1191,1211,1212,1219,1220,1222,1223,1230,1231,1233,1234,1241,1243,1244,1246,1247,1248,1256,1257,1259,1260,1261,1272,1273,1274,1275,1276,1277,1289,1290,1291,1292,1293,1309,1325,1326,1328,1329,1349,1386,1387,1388,1389,1390,1489,1490,1491,1492,1493,1494,1495,1496,1497,1498) have mixed types. Specify dtype option on import or set low_memory=False.\n",
      "  interactivity=interactivity, compiler=compiler, result=result)\n"
     ]
    }
   ],
   "source": [
    "test_df = pd.read_csv(data_path/'test_set.csv')"
   ]
  },
  {
   "cell_type": "code",
   "execution_count": 905,
   "metadata": {},
   "outputs": [
    {
     "name": "stderr",
     "output_type": "stream",
     "text": [
      "/storage/homedir/dima/miniconda3/envs/promed/lib/python3.6/site-packages/IPython/core/interactiveshell.py:3049: DtypeWarning: Columns (23,58,93,106,131,136,228,229,261,262,264,266,267,268,269,270,271,272,273,274,275,276,277,278,279,280,281,282,283,284,285,286,287,288,289,290,291,292,293,294,295,296,297,298,299,300,301,302,303,304,305,306,307,308,309,310,311,312,313,314,315,316,317,318,319,320,324,325,326,327,328,329,331,332,333,334,335,336,337,338,339,340,350,351,352,353,354,365,366,367,368,369,370,371,372,373,374,386,387,389,390,391,392,393,394,395,396,400,403,407,408,409,410,411,412,413,414,415,416,418,419,420,422,423,424,425,426,428,434,435,442,443,445,446,453,454,456,457,458,459,460,461,462,464,466,467,469,470,471,472,473,475,476,477,478,479,480,482,483,484,485,486,487,488,489,490,491,492,493,494,495,496,497,498,499,500,501,503,505,507,509,511,512,513,514,515,516,518,519,522,523,526,527,528,529,530,531,532,533,534,535,536,537,548,549,551,552,565,567,568,569,570,571,572,573,574,575,576,577,578,579,580,581,582,583,584,585,586,587,588,589,590,591,592,593,595,597,598,599,600,601,602,603,605,609,610,611,612,613,621,622,623,624,625,626,627,628,629,630,631,632,633,634,635,636,637,638,639,640,641,642,643,644,645,646,647,648,649,650,652,654,656,658,669,670,671,672,673,680,681,683,684,687,688,690,691,692,693,695,696,697,698,700,701,702,703,704,705,717,718,719,720,721,778,801,836,871,884,909,914,1006,1007,1039,1040,1042,1044,1045,1046,1047,1048,1049,1050,1051,1052,1053,1054,1055,1056,1057,1058,1059,1060,1061,1062,1063,1064,1065,1066,1067,1068,1069,1070,1071,1072,1073,1074,1075,1076,1077,1078,1079,1080,1081,1082,1083,1086,1091,1094,1095,1096,1097,1098,1102,1103,1104,1105,1106,1107,1114,1115,1116,1117,1118,1128,1129,1130,1131,1132,1143,1144,1145,1146,1147,1148,1149,1150,1151,1152,1164,1165,1167,1168,1169,1170,1171,1172,1173,1174,1178,1181,1185,1186,1187,1188,1189,1190,1191,1192,1193,1194,1196,1197,1198,1200,1201,1202,1203,1204,1206,1212,1213,1220,1221,1223,1224,1231,1232,1234,1235,1236,1237,1238,1239,1240,1242,1244,1245,1247,1248,1249,1250,1251,1253,1254,1255,1256,1257,1258,1260,1261,1262,1263,1264,1265,1266,1267,1268,1269,1270,1271,1272,1273,1274,1275,1276,1277,1278,1279,1281,1283,1285,1287,1289,1290,1291,1292,1293,1294,1296,1297,1300,1301,1304,1305,1306,1307,1308,1309,1310,1311,1312,1313,1314,1315,1326,1327,1329,1330,1343,1345,1346,1347,1348,1349,1350,1351,1352,1353,1354,1355,1356,1357,1358,1359,1360,1361,1362,1363,1364,1365,1366,1367,1368,1369,1370,1371,1373,1375,1376,1377,1378,1379,1380,1381,1383,1387,1388,1389,1390,1391,1399,1400,1401,1402,1403,1404,1405,1406,1407,1408,1409,1410,1411,1412,1413,1414,1415,1416,1417,1418,1419,1420,1421,1422,1423,1424,1425,1426,1427,1428,1430,1432,1434,1436,1447,1448,1449,1450,1451,1458,1459,1461,1462,1465,1466,1468,1469,1470,1471,1473,1474,1475,1476,1478,1479,1480,1481,1482,1483,1495,1496,1497,1498,1499,1556) have mixed types. Specify dtype option on import or set low_memory=False.\n",
      "  interactivity=interactivity, compiler=compiler, result=result)\n"
     ]
    }
   ],
   "source": [
    "val_df = pd.read_csv(data_path/'auxilary_training_data.csv', nrows=1000000, index_col=0)"
   ]
  },
  {
   "cell_type": "code",
   "execution_count": 11,
   "metadata": {},
   "outputs": [],
   "source": [
    "delete_col = []\n",
    "for c in traind_df.columns:\n",
    "    if len(traind_df[c].unique()) == 1:\n",
    "        delete_col.append(c)"
   ]
  },
  {
   "cell_type": "code",
   "execution_count": 12,
   "metadata": {},
   "outputs": [],
   "source": [
    "traind_df = traind_df.drop(delete_col, axis=1)"
   ]
  },
  {
   "cell_type": "code",
   "execution_count": 13,
   "metadata": {},
   "outputs": [],
   "source": [
    "drop_test = [f\"x1_{col}\" for col in delete_col] + [f\"x2_{col}\" for col in delete_col]"
   ]
  },
  {
   "cell_type": "code",
   "execution_count": 14,
   "metadata": {},
   "outputs": [],
   "source": [
    "val_df= val_df.drop(drop_test, axis=1)"
   ]
  },
  {
   "cell_type": "code",
   "execution_count": 15,
   "metadata": {},
   "outputs": [],
   "source": [
    "user1_features = [ col for col in val_df.columns  if col.startswith(\"x1_\") ]\n",
    "user2_features = [ col for col in val_df.columns if col.startswith(\"x2_\") ]"
   ]
  },
  {
   "cell_type": "code",
   "execution_count": 17,
   "metadata": {},
   "outputs": [],
   "source": [
    "temp_df  = traind_df.drop(\"user.id\", axis=1)"
   ]
  },
  {
   "cell_type": "code",
   "execution_count": 243,
   "metadata": {},
   "outputs": [],
   "source": [
    "entropy = get_entropy(train_df)"
   ]
  },
  {
   "cell_type": "code",
   "execution_count": 1381,
   "metadata": {},
   "outputs": [],
   "source": [
    "col_fetures = entropy[(entropy[\"Entropy\"] >2)& (entropy[\"Entropy\"] <8)][\"Feature\"].values"
   ]
  },
  {
   "cell_type": "code",
   "execution_count": 1369,
   "metadata": {},
   "outputs": [],
   "source": [
    "user1_features = [ f\"x1_{col}\" for col in col_fetures]\n",
    "user2_features = [ f\"x2_{col}\" for col in col_fetures]"
   ]
  },
  {
   "cell_type": "code",
   "execution_count": 1382,
   "metadata": {
    "collapsed": true,
    "jupyter": {
     "outputs_hidden": true
    }
   },
   "outputs": [
    {
     "data": {
      "text/plain": [
       "35"
      ]
     },
     "execution_count": 1382,
     "metadata": {},
     "output_type": "execute_result"
    }
   ],
   "source": [
    "len(col_fetures)"
   ]
  },
  {
   "cell_type": "code",
   "execution_count": 1397,
   "metadata": {},
   "outputs": [
    {
     "data": {
      "text/plain": [
       "24612"
      ]
     },
     "execution_count": 1397,
     "metadata": {},
     "output_type": "execute_result"
    }
   ],
   "source": [
    "sum(test_df[\"x1_Rects.result.x\"] == test_df[\"x1_Rects.result.left\"])"
   ]
  },
  {
   "cell_type": "code",
   "execution_count": 1395,
   "metadata": {},
   "outputs": [],
   "source": [
    "c = train_df[col_fetures].corr().abs()\n",
    "s = c.unstack()\n",
    "so = s.sort_values(kind=\"quicksort\",ascending=False)"
   ]
  },
  {
   "cell_type": "code",
   "execution_count": 1396,
   "metadata": {},
   "outputs": [
    {
     "data": {
      "text/plain": [
       "Battery.result.level          Battery.result.level            1.000000\n",
       "Rects.result.y                Rects.result.y                  1.000000\n",
       "Screen.result.height          Screen.result.height            1.000000\n",
       "Basic.result.totalMemory      Basic.result.totalMemory        1.000000\n",
       "Screen.result.availWidth      Screen.result.availWidth        1.000000\n",
       "Locale.result.timezoneOffset  Locale.result.timezoneOffset    1.000000\n",
       "user.session_page_count       user.session_page_count         1.000000\n",
       "Rects.result.x                Rects.result.x                  1.000000\n",
       "                              Rects.result.left               1.000000\n",
       "Rects.result.left             Rects.result.x                  1.000000\n",
       "                              Rects.result.left               1.000000\n",
       "Rects.result.y                Rects.result.top                1.000000\n",
       "Screen.result.width           Screen.result.width             1.000000\n",
       "Rects.result.top              Rects.result.y                  1.000000\n",
       "                              Rects.result.top                1.000000\n",
       "Rects.result.width            Rects.result.width              1.000000\n",
       "Rects.result.height           Rects.result.height             1.000000\n",
       "Rects.result.bottom           Rects.result.bottom             1.000000\n",
       "Rects.result.right            Rects.result.right              1.000000\n",
       "Fonts.result.length           Fonts.result.length             1.000000\n",
       "Screen.result.availHeight     Screen.result.availHeight       1.000000\n",
       "Screen.result.outerWidth      Screen.result.outerWidth        1.000000\n",
       "Basic.result.buildID          Basic.result.buildID            1.000000\n",
       "Screen.result.outerHeight     Screen.result.outerHeight       1.000000\n",
       "Connection.result.rtt         Connection.result.rtt           1.000000\n",
       "Screen.result.availWidth      Screen.result.width             0.998134\n",
       "Screen.result.width           Screen.result.availWidth        0.998134\n",
       "Rects.result.y                Rects.result.bottom             0.995953\n",
       "Rects.result.bottom           Rects.result.y                  0.995953\n",
       "                              Rects.result.top                0.994846\n",
       "                                                                ...   \n",
       "Connection.result.downlink    Screen.result.outerWidth             NaN\n",
       "                              Screen.result.availHeight            NaN\n",
       "                              Fonts.result.length                  NaN\n",
       "                              Connection.result.downlink           NaN\n",
       "                              user.session_page_count              NaN\n",
       "                              Locale.result.timezoneOffset         NaN\n",
       "                              Screen.result.availWidth             NaN\n",
       "                              Basic.result.totalMemory             NaN\n",
       "                              Screen.result.height                 NaN\n",
       "                              Basic.result.buildID                 NaN\n",
       "                              Screen.result.width                  NaN\n",
       "                              Connection.result.rtt                NaN\n",
       "Rects.result.y                Basic.result.totalMemory             NaN\n",
       "Rects.result.x                Basic.result.totalMemory             NaN\n",
       "user.session_page_count       Connection.result.downlink           NaN\n",
       "Locale.result.timezoneOffset  Connection.result.downlink           NaN\n",
       "Screen.result.availWidth      Connection.result.downlink           NaN\n",
       "Basic.result.totalMemory      Connection.result.downlink           NaN\n",
       "                              Rects.result.y                       NaN\n",
       "                              Rects.result.x                       NaN\n",
       "                              Basic.result.buildID                 NaN\n",
       "                              Connection.result.rtt                NaN\n",
       "Screen.result.height          Connection.result.downlink           NaN\n",
       "Basic.result.buildID          Connection.result.downlink           NaN\n",
       "                              Basic.result.totalMemory             NaN\n",
       "                              Connection.result.rtt                NaN\n",
       "Screen.result.width           Connection.result.downlink           NaN\n",
       "Connection.result.rtt         Connection.result.downlink           NaN\n",
       "                              Basic.result.totalMemory             NaN\n",
       "                              Basic.result.buildID                 NaN\n",
       "Length: 484, dtype: float64"
      ]
     },
     "execution_count": 1396,
     "metadata": {},
     "output_type": "execute_result"
    }
   ],
   "source": [
    "so"
   ]
  },
  {
   "cell_type": "code",
   "execution_count": 1436,
   "metadata": {},
   "outputs": [],
   "source": [
    "from datasketch import MinHash, MinHashLSH\n",
    "HASH_SIZE = 256\n",
    "\n",
    "def is_same_device(d1,d2):\n",
    "\n",
    "    m1 = MinHash(num_perm=HASH_SIZE)\n",
    "    m2 = MinHash(num_perm=HASH_SIZE)\n",
    "\n",
    "    for d in d1:\n",
    "        m1.update(str(d).encode('utf8'))\n",
    "    for d in d2:\n",
    "        m2.update(str(d).encode('utf8'))\n",
    "\n",
    "    # Create LSH index 65\n",
    "    lsh = MinHashLSH(threshold=0.5, num_perm=HASH_SIZE)\n",
    "    lsh.insert(\"m2\", m2)\n",
    "    return len(lsh.query(m1)) == 1"
   ]
  },
  {
   "cell_type": "code",
   "execution_count": 1439,
   "metadata": {},
   "outputs": [],
   "source": [
    "import farmhash\n",
    "\n",
    "from datasketch import MinHash, MinHashLSH\n",
    "HASH_SIZE = 128\n",
    "\n",
    "# We need to define a new hash function that outputs an integer that\n",
    "# can be encoded in 32 bits.\n",
    "def _hash_func(d):\n",
    "    return farmhash.fingerprint64(d)\n",
    "\n",
    "# Use this function in MinHash constructor.\n",
    "\n",
    "def is_same_device(d1,d2):\n",
    "\n",
    "    m1 = MinHash(num_perm=HASH_SIZE, hashfunc=_hash_func)\n",
    "    m2 = MinHash(num_perm=HASH_SIZE,  hashfunc=_hash_func)\n",
    "\n",
    "    for d in d1:\n",
    "        m1.update(str(d))\n",
    "    for d in d2:\n",
    "        m2.update(str(d))\n",
    "\n",
    "    # Create LSH index 65\n",
    "    lsh = MinHashLSH(threshold=0.45, num_perm=HASH_SIZE)\n",
    "    lsh.insert(\"m2\", m2)\n",
    "    return len(lsh.query(m1)) == 1"
   ]
  },
  {
   "cell_type": "code",
   "execution_count": 1444,
   "metadata": {},
   "outputs": [],
   "source": [
    "from datasketch import MinHash, MinHashLSH\n",
    "HASH_SIZE = 128\n",
    "import xxhash\n",
    "\n",
    "# We need to define a new hash function that outputs an integer that\n",
    "# can be encoded in 32 bits.\n",
    "def _hash_func(d):\n",
    "    return xxhash.xxh32(d).intdigest()\n",
    "\n",
    "# Use this function in MinHash constructor.\n",
    "\n",
    "def is_same_device(d1,d2):\n",
    "\n",
    "    m1 = MinHash(num_perm=HASH_SIZE, hashfunc=_hash_func)\n",
    "    m2 = MinHash(num_perm=HASH_SIZE,  hashfunc=_hash_func)\n",
    "\n",
    "    for d in d1:\n",
    "        m1.update(str(d).encode('utf8'))\n",
    "    for d in d2:\n",
    "        m2.update(str(d).encode('utf8'))\n",
    "\n",
    "    # Create LSH index 65\n",
    "    lsh = MinHashLSH(threshold=0.55, num_perm=HASH_SIZE)\n",
    "    lsh.insert(\"m2\", m2)\n",
    "    return len(lsh.query(m1)) == 1"
   ]
  },
  {
   "cell_type": "code",
   "execution_count": 1418,
   "metadata": {},
   "outputs": [],
   "source": [
    "from datasketch import MinHash, MinHashLSH\n",
    "HASH_SIZE = 64\n",
    "import mmh3\n",
    "\n",
    "# We need to define a new hash function that outputs an integer that\n",
    "# can be encoded in 32 bits.\n",
    "def _hash_func(d):\n",
    "    return mmh3.hash(d, signed=False)\n",
    "\n",
    "# Use this function in MinHash constructor.\n",
    "\n",
    "def is_same_device(d1,d2):\n",
    "\n",
    "    m1 = MinHash(num_perm=HASH_SIZE, hashfunc=_hash_func)\n",
    "    m2 = MinHash(num_perm=HASH_SIZE,  hashfunc=_hash_func)\n",
    "\n",
    "    for d in d1:\n",
    "        m1.update(str(d).encode('utf8'))\n",
    "    for d in d2:\n",
    "        m2.update(str(d).encode('utf8'))\n",
    "\n",
    "    # Create LSH index 65\n",
    "    lsh = MinHashLSH(threshold=0.55, num_perm=HASH_SIZE)\n",
    "    lsh.insert(\"m2\", m2)\n",
    "    return len(lsh.query(m1)) == 1"
   ]
  },
  {
   "cell_type": "code",
   "execution_count": 1123,
   "metadata": {},
   "outputs": [],
   "source": [
    "from datasketch import MinHashLSHEnsemble, MinHash\n",
    "\n",
    "def is_same_device(d1,d2):\n",
    "\n",
    "    m1 = MinHash(num_perm=HASH_SIZE)\n",
    "    m2 = MinHash(num_perm=HASH_SIZE)\n",
    "\n",
    "    for d in d1:\n",
    "        m1.update(str(d).encode('utf8'))\n",
    "    for d in d2:\n",
    "        m2.update(str(d).encode('utf8'))\n",
    "\n",
    "    # Create LSH index 65\n",
    "    lshensemble = MinHashLSHEnsemble(threshold=0.6, num_perm=HASH_SIZE,\n",
    "    num_part=32)\n",
    "\n",
    "    # Index takes an iterable of (key, minhash, size)\n",
    "    lshensemble.index([(\"m2\", m2, len(d2))])\n",
    "\n",
    "    return len(list(lshensemble.query(m1, len(d1)))) == 1"
   ]
  },
  {
   "cell_type": "code",
   "execution_count": 1067,
   "metadata": {},
   "outputs": [],
   "source": [
    "val_temp_old = val_temp.copy()"
   ]
  },
  {
   "cell_type": "code",
   "execution_count": 1185,
   "metadata": {},
   "outputs": [],
   "source": [
    "val_temp = val_temp_old"
   ]
  },
  {
   "cell_type": "code",
   "execution_count": 1401,
   "metadata": {},
   "outputs": [],
   "source": [
    "val_df_true = val_df[val_df[\"same_user\"]==True].sample(20000)\n",
    "val_df_false = val_df[val_df[\"same_user\"]==False].sample(20000)"
   ]
  },
  {
   "cell_type": "code",
   "execution_count": 1402,
   "metadata": {},
   "outputs": [],
   "source": [
    "val_temp = val_df_false.append(val_df_true)"
   ]
  },
  {
   "cell_type": "code",
   "execution_count": 1403,
   "metadata": {},
   "outputs": [],
   "source": [
    "label = val_temp[\"same_user\"]"
   ]
  },
  {
   "cell_type": "code",
   "execution_count": 1404,
   "metadata": {},
   "outputs": [
    {
     "data": {
      "text/plain": [
       "(40000, 40000)"
      ]
     },
     "execution_count": 1404,
     "metadata": {},
     "output_type": "execute_result"
    }
   ],
   "source": [
    "len(label), len(val_temp)"
   ]
  },
  {
   "cell_type": "code",
   "execution_count": 1405,
   "metadata": {},
   "outputs": [
    {
     "data": {
      "application/vnd.jupyter.widget-view+json": {
       "model_id": "f6f86a42324e4fb4ad4785c98a81d566",
       "version_major": 2,
       "version_minor": 0
      },
      "text/plain": [
       "HBox(children=(IntProgress(value=0, max=40000), HTML(value='')))"
      ]
     },
     "metadata": {},
     "output_type": "display_data"
    },
    {
     "data": {
      "application/vnd.jupyter.widget-view+json": {
       "model_id": "836519333afe4d69ad6fa980c8daa224",
       "version_major": 2,
       "version_minor": 0
      },
      "text/plain": [
       "HBox(children=(IntProgress(value=0, max=40000), HTML(value='')))"
      ]
     },
     "metadata": {},
     "output_type": "display_data"
    }
   ],
   "source": [
    "device1 =  [ r[user1_features] for index, r in tqdm(val_temp.iterrows(), total=len(val_temp))]\n",
    "device2 =  [  r[user2_features] for index, r in tqdm(val_temp.iterrows(), total=len(val_temp))]"
   ]
  },
  {
   "cell_type": "code",
   "execution_count": 1419,
   "metadata": {},
   "outputs": [
    {
     "data": {
      "application/vnd.jupyter.widget-view+json": {
       "model_id": "5f1a7771687a49c3bc9c6ca21cd1bf23",
       "version_major": 2,
       "version_minor": 0
      },
      "text/plain": [
       "HBox(children=(IntProgress(value=0, max=40000), HTML(value='')))"
      ]
     },
     "metadata": {},
     "output_type": "display_data"
    }
   ],
   "source": [
    "max_workers = 32\n",
    "res = []\n",
    "with concurrent.futures.ProcessPoolExecutor(max_workers=max_workers) as executor:\n",
    "    for pred in tqdm(executor.map(is_same_device, device1, device2), total=len(device1)):\n",
    "         res.append(pred)"
   ]
  },
  {
   "cell_type": "markdown",
   "metadata": {},
   "source": [
    "21 - 0.9238527483610691\n",
    "41 - 0.9138\n",
    "17 - 0.874878758486906\n",
    "25 - 0.92055"
   ]
  },
  {
   "cell_type": "code",
   "execution_count": 1420,
   "metadata": {},
   "outputs": [
    {
     "data": {
      "text/plain": [
       "0.937803590285111"
      ]
     },
     "execution_count": 1420,
     "metadata": {},
     "output_type": "execute_result"
    }
   ],
   "source": [
    "f1_score(label, res)"
   ]
  },
  {
   "cell_type": "code",
   "execution_count": 1242,
   "metadata": {},
   "outputs": [
    {
     "data": {
      "text/plain": [
       "0.942366026289181"
      ]
     },
     "execution_count": 1242,
     "metadata": {},
     "output_type": "execute_result"
    }
   ],
   "source": [
    "from sklearn.metrics import f1_score\n",
    "f1_score(label, res)"
   ]
  },
  {
   "cell_type": "code",
   "execution_count": 1408,
   "metadata": {},
   "outputs": [],
   "source": [
    "ensemble_df = pd.DataFrame()\n",
    "ensemble_df[\"actual\"] = val_temp[\"same_user\"]"
   ]
  },
  {
   "cell_type": "code",
   "execution_count": 1409,
   "metadata": {},
   "outputs": [],
   "source": [
    "ensemble_df[\"sha\"] = res"
   ]
  },
  {
   "cell_type": "code",
   "execution_count": 1417,
   "metadata": {},
   "outputs": [],
   "source": [
    "ensemble_df[\"xxh32\"] = res"
   ]
  },
  {
   "cell_type": "code",
   "execution_count": 1421,
   "metadata": {},
   "outputs": [],
   "source": [
    "ensemble_df[\"mmm\"] = res"
   ]
  },
  {
   "cell_type": "code",
   "execution_count": 1413,
   "metadata": {},
   "outputs": [],
   "source": [
    "ensemble_df[\"farm\"] = res"
   ]
  },
  {
   "cell_type": "code",
   "execution_count": 763,
   "metadata": {},
   "outputs": [],
   "source": [
    "def print_score(m, X_train, y_train, X_valid, y_valid):\n",
    "    y_pred = m.predict(X_valid)\n",
    "    y_pred_t = m.predict(X_train)\n",
    "\n",
    "    \n",
    "    res = { \"train\":{\"Accuracy\":m.score(X_train, y_train),\n",
    "                    \"F1\":f1_score(y_train, y_pred_t, average=\"macro\")},\n",
    "           \"test\":{\"Accuracy\":m.score(X_valid, y_valid),\n",
    "                    \"F1\":f1_score(y_valid, y_pred, average=\"macro\")  }\n",
    "          }\n",
    "    print(res)"
   ]
  },
  {
   "cell_type": "code",
   "execution_count": 1423,
   "metadata": {},
   "outputs": [],
   "source": [
    "temp_ensemble_df = ensemble_df.copy()"
   ]
  },
  {
   "cell_type": "code",
   "execution_count": 1017,
   "metadata": {},
   "outputs": [],
   "source": [
    "temp_ensemble_df[\"sha\"] = temp_ensemble_df.sha.astype(int)\n",
    "temp_ensemble_df[\"xxh32\"] = temp_ensemble_df.xxh32.astype(int)\n",
    "temp_ensemble_df[\"mmm\"] = temp_ensemble_df.mmm.astype(int)\n"
   ]
  },
  {
   "cell_type": "code",
   "execution_count": 1055,
   "metadata": {},
   "outputs": [],
   "source": [
    "temp_ensemble_df[\"score\"] = temp_ensemble_df[\"sha\"]*4 + temp_ensemble_df[\"mmm\"]\n",
    "temp_ensemble_df[\"score\"] = temp_ensemble_df[\"score\"] /5"
   ]
  },
  {
   "cell_type": "code",
   "execution_count": 1450,
   "metadata": {},
   "outputs": [],
   "source": [
    "from sklearn.model_selection import train_test_split\n",
    "\n",
    "X_train, X_test, y_train, y_test = train_test_split(temp_ensemble_df[[\"xxh32\",\"sha\", \"mmm\",\"farm\"]], ensemble_df[\"actual\"], test_size=0.3)\n"
   ]
  },
  {
   "cell_type": "code",
   "execution_count": 1451,
   "metadata": {},
   "outputs": [
    {
     "data": {
      "text/plain": [
       "False    6043\n",
       "True     5957\n",
       "Name: actual, dtype: int64"
      ]
     },
     "execution_count": 1451,
     "metadata": {},
     "output_type": "execute_result"
    }
   ],
   "source": [
    "y_test.value_counts()"
   ]
  },
  {
   "cell_type": "code",
   "execution_count": 1452,
   "metadata": {},
   "outputs": [],
   "source": [
    "temp_test=X_test\n",
    "temp_test[\"y\"] = y_test"
   ]
  },
  {
   "cell_type": "code",
   "execution_count": 1453,
   "metadata": {},
   "outputs": [],
   "source": [
    "temp_test= temp_test[temp_test[\"y\"]==True].sample(600).append(temp_test[temp_test['y']==False])"
   ]
  },
  {
   "cell_type": "code",
   "execution_count": 1454,
   "metadata": {},
   "outputs": [],
   "source": [
    "y_test = temp_test.pop(\"y\")\n",
    "X_test = temp_test"
   ]
  },
  {
   "cell_type": "code",
   "execution_count": 1459,
   "metadata": {},
   "outputs": [],
   "source": [
    "x_train_temp = X_train.copy()\n",
    "x_test_temp = X_test.copy()"
   ]
  },
  {
   "cell_type": "code",
   "execution_count": 1485,
   "metadata": {},
   "outputs": [],
   "source": [
    "X_train = x_train_temp[[\"xxh32\",\"sha\", \"mmm\",\"farm\"]]\n",
    "X_test = x_test_temp[[\"xxh32\",\"sha\", \"mmm\",\"farm\"]]"
   ]
  },
  {
   "cell_type": "code",
   "execution_count": 1589,
   "metadata": {},
   "outputs": [
    {
     "name": "stdout",
     "output_type": "stream",
     "text": [
      "{'train': {'Accuracy': 0.9587857142857142, 'F1': 0.9587351648626712}, 'test': {'Accuracy': 0.9921722113502935, 'F1': 0.9759288113388986}}\n"
     ]
    }
   ],
   "source": [
    "from sklearn.ensemble import RandomForestClassifier\n",
    "from sklearn.metrics import confusion_matrix, classification_report\n",
    "from xgboost import XGBClassifier\n",
    "\n",
    "# m = RandomForestClassifier(n_jobs=-1, n_estimators=100,  max_leaf_nodes=2 ,random_state=1)\n",
    "m = XGBClassifier(   learning_rate=0.05, \n",
    "                      objective='binary:logistic',\n",
    "                      max_depth=1,\n",
    "                      n_estimators=100)\n",
    "# m = XGBClassifier(scale_pos_weight=1,\n",
    "#                       learning_rate=0.05, \n",
    "#                       colsample_bytree = 0.4,\n",
    "#                       subsample = 0.8,\n",
    "#                       objective='binary:logistic',\n",
    "#                       n_estimators=1000,\n",
    "#                       reg_alpha = 0.3,\n",
    "#                       max_depth=6,\n",
    "#                       gamma=10)\n",
    "m.fit(X_train,y_train)\n",
    "print_score(m,X_train, y_train, X_test, y_test)"
   ]
  },
  {
   "cell_type": "code",
   "execution_count": null,
   "metadata": {},
   "outputs": [],
   "source": [
    "{'train': {'Accuracy': 0.9587857142857142, 'F1': 0.9587351648626712}, 'test': {'Accuracy': 0.9921722113502935, 'F1': 0.9759288113388986}}\n"
   ]
  },
  {
   "cell_type": "code",
   "execution_count": 1549,
   "metadata": {},
   "outputs": [
    {
     "name": "stdout",
     "output_type": "stream",
     "text": [
      "{'train': {'Accuracy': 0.9663928571428572, 'F1': 0.9663746805561153}, 'test': {'Accuracy': 0.9906668673791962, 'F1': 0.9719382276631928}}\n"
     ]
    }
   ],
   "source": [
    "from sklearn.datasets import load_iris\n",
    "from sklearn.linear_model import LogisticRegression\n",
    "m = LogisticRegression(random_state=0, solver='lbfgs').fit(X_train, y_train)\n",
    "\n",
    "print_score(m,X_train, y_train, X_test, y_test)"
   ]
  },
  {
   "cell_type": "code",
   "execution_count": null,
   "metadata": {},
   "outputs": [],
   "source": [
    "all {'train': {'Accuracy': 0.9701428571428572, 'F1': 0.970137698887416}, 'test': {'Accuracy': 0.9840433539063677, 'F1': 0.9539864897007755}}\n",
    "[\"xxh32\", \"mmm\",\"farm\"] {'train': {'Accuracy': 0.9676071428571429, 'F1': 0.9675979743650908}, 'test': {'Accuracy': 0.9841938883034773, 'F1': 0.9540656734133687}}\n",
    "[[\"xxh32\",\"sha\",\"farm\"]] {'train': {'Accuracy': 0.9685714285714285, 'F1': 0.9685622665572857}, 'test': {'Accuracy': 0.9878067138341111, 'F1': 0.9641579861440694}}\n",
    "\"sha\", \"farm\"] {'train': {'Accuracy': 0.9664285714285714, 'F1': 0.9664134559415057}, 'test': {'Accuracy': 0.9888604546138793, 'F1': 0.9670420364851847}}\n",
    "[\"xxh32\",\"sha\"] {'train': {'Accuracy': 0.9634642857142857, 'F1': 0.9634372777547584}, 'test': {'Accuracy': 0.9909679361734156, 'F1': 0.9726409344008435}}\n",
    "max_depth=2 {'train': {'Accuracy': 0.965, 'F1': 0.9649805427607483}, 'test': {'Accuracy': 0.9888604546138793, 'F1': 0.9668012046012135}}\n",
    "min_samples_leaf=200 {'train': {'Accuracy': 0.9664285714285714, 'F1': 0.9664134559415057}, 'test': {'Accuracy': 0.9888604546138793, 'F1': 0.9670420364851847}}\n",
    "max_leaf_nodes=2 {'train': {'Accuracy': 0.9617142857142857, 'F1': 0.9616772876773507}, 'test': {'Accuracy': 0.9918711425560741, 'F1': 0.9751914985435322}}\n"
   ]
  },
  {
   "cell_type": "code",
   "execution_count": 760,
   "metadata": {},
   "outputs": [
    {
     "data": {
      "text/plain": [
       "array([False, False, False, ...,  True, False, False])"
      ]
     },
     "execution_count": 760,
     "metadata": {},
     "output_type": "execute_result"
    }
   ],
   "source": [
    "y_pred.scor"
   ]
  },
  {
   "cell_type": "code",
   "execution_count": 533,
   "metadata": {},
   "outputs": [
    {
     "data": {
      "text/plain": [
       "0.9364102564102564"
      ]
     },
     "execution_count": 533,
     "metadata": {},
     "output_type": "execute_result"
    }
   ],
   "source": [
    "f1_score(label, res)"
   ]
  },
  {
   "cell_type": "code",
   "execution_count": 1432,
   "metadata": {},
   "outputs": [
    {
     "data": {
      "application/vnd.jupyter.widget-view+json": {
       "model_id": "fe965927288a410eb602642537e2469c",
       "version_major": 2,
       "version_minor": 0
      },
      "text/plain": [
       "HBox(children=(IntProgress(value=0, max=25000), HTML(value='')))"
      ]
     },
     "metadata": {},
     "output_type": "display_data"
    },
    {
     "data": {
      "application/vnd.jupyter.widget-view+json": {
       "model_id": "fde40cb10a3047d4ac09b8ccb23a3910",
       "version_major": 2,
       "version_minor": 0
      },
      "text/plain": [
       "HBox(children=(IntProgress(value=0, max=25000), HTML(value='')))"
      ]
     },
     "metadata": {},
     "output_type": "display_data"
    }
   ],
   "source": [
    "val_temp = test_df\n",
    "device1 =  [ r[user1_features] for index, r in tqdm(val_temp.iterrows(), total=len(val_temp))]\n",
    "device2 =  [  r[user2_features] for index, r in tqdm(val_temp.iterrows(), total=len(val_temp))]"
   ]
  },
  {
   "cell_type": "code",
   "execution_count": 1445,
   "metadata": {},
   "outputs": [
    {
     "data": {
      "application/vnd.jupyter.widget-view+json": {
       "model_id": "14d3bb19d2aa48f4b5c21ae1b9d3091c",
       "version_major": 2,
       "version_minor": 0
      },
      "text/plain": [
       "HBox(children=(IntProgress(value=0, max=25000), HTML(value='')))"
      ]
     },
     "metadata": {},
     "output_type": "display_data"
    }
   ],
   "source": [
    "max_workers = 32\n",
    "res = []\n",
    "with concurrent.futures.ProcessPoolExecutor(max_workers=max_workers) as executor:\n",
    "    for pred in tqdm(executor.map(is_same_device, device1, device2), total=len(device1)):\n",
    "         res.append(pred)"
   ]
  },
  {
   "cell_type": "code",
   "execution_count": 1434,
   "metadata": {},
   "outputs": [],
   "source": [
    "output = pd.DataFrame()\n",
    "output[\"Id\"] = test_df[\"Id\"]\n",
    "# output[\"Predicted\"] = res\n",
    "# output[\"Predicted\"] = output.Predicted.astype(int)\n",
    "\n"
   ]
  },
  {
   "cell_type": "code",
   "execution_count": 1255,
   "metadata": {},
   "outputs": [],
   "source": [
    "output.to_csv(\"submit_3.csv\",index=False)"
   ]
  },
  {
   "cell_type": "code",
   "execution_count": 1438,
   "metadata": {},
   "outputs": [],
   "source": [
    "output[\"sha\"] = res\n",
    "output[\"sha\"] = output.sha.astype(int)"
   ]
  },
  {
   "cell_type": "code",
   "execution_count": 1446,
   "metadata": {},
   "outputs": [],
   "source": [
    "output[\"xxh32\"] = res\n",
    "output[\"xxh32\"] = output.xxh32.astype(int)"
   ]
  },
  {
   "cell_type": "code",
   "execution_count": 1443,
   "metadata": {},
   "outputs": [],
   "source": [
    "output[\"farm\"] = res\n",
    "output[\"farm\"] = output.farm.astype(int)"
   ]
  },
  {
   "cell_type": "code",
   "execution_count": 1435,
   "metadata": {},
   "outputs": [],
   "source": [
    "output[\"mmm\"] = res\n",
    "output[\"mmm\"] = output.mmm.astype(int)"
   ]
  },
  {
   "cell_type": "code",
   "execution_count": 887,
   "metadata": {},
   "outputs": [],
   "source": [
    "output = output.rename(columns={\"Predicted\":\"xxh32\"})"
   ]
  },
  {
   "cell_type": "code",
   "execution_count": 892,
   "metadata": {},
   "outputs": [],
   "source": [
    "output[\"sha\"] = pd.read_csv(\"submit_1.csv\")[\"Predicted\"]"
   ]
  },
  {
   "cell_type": "code",
   "execution_count": 1597,
   "metadata": {},
   "outputs": [],
   "source": [
    "output[\"Predicted\"] = m.predict(output[[\"xxh32\",\"sha\", \"mmm\",\"farm\"]])\n",
    "output[\"Predicted\"] = output.Predicted.astype(int)"
   ]
  },
  {
   "cell_type": "code",
   "execution_count": 1601,
   "metadata": {},
   "outputs": [],
   "source": [
    "output[[\"Id\",\"Predicted\"]].to_csv(\"submit_7.csv\",index=False)"
   ]
  },
  {
   "cell_type": "code",
   "execution_count": 1598,
   "metadata": {},
   "outputs": [],
   "source": [
    "sub1 = pd.read_csv(\"submit_1.csv\")\n",
    "# sub2 = pd.read_csv(\"submit_3.csv\")\n"
   ]
  },
  {
   "cell_type": "code",
   "execution_count": 1599,
   "metadata": {},
   "outputs": [],
   "source": [
    "sub1[\"Predicted2\"] = output[\"Predicted\"]"
   ]
  },
  {
   "cell_type": "code",
   "execution_count": 1600,
   "metadata": {},
   "outputs": [
    {
     "data": {
      "text/plain": [
       "0    67\n",
       "1    53\n",
       "Name: Predicted, dtype: int64"
      ]
     },
     "execution_count": 1600,
     "metadata": {},
     "output_type": "execute_result"
    }
   ],
   "source": [
    "(sub1[sub1[\"Predicted\"]!=sub1[\"Predicted2\"]])[\"Predicted\"].value_counts()"
   ]
  },
  {
   "cell_type": "code",
   "execution_count": 1572,
   "metadata": {},
   "outputs": [
    {
     "data": {
      "text/html": [
       "<div>\n",
       "<style scoped>\n",
       "    .dataframe tbody tr th:only-of-type {\n",
       "        vertical-align: middle;\n",
       "    }\n",
       "\n",
       "    .dataframe tbody tr th {\n",
       "        vertical-align: top;\n",
       "    }\n",
       "\n",
       "    .dataframe thead th {\n",
       "        text-align: right;\n",
       "    }\n",
       "</style>\n",
       "<table border=\"1\" class=\"dataframe\">\n",
       "  <thead>\n",
       "    <tr style=\"text-align: right;\">\n",
       "      <th></th>\n",
       "      <th>Id</th>\n",
       "      <th>Predicted</th>\n",
       "      <th>Predicted2</th>\n",
       "    </tr>\n",
       "  </thead>\n",
       "  <tbody>\n",
       "    <tr>\n",
       "      <th>135</th>\n",
       "      <td>135</td>\n",
       "      <td>1</td>\n",
       "      <td>0</td>\n",
       "    </tr>\n",
       "    <tr>\n",
       "      <th>174</th>\n",
       "      <td>174</td>\n",
       "      <td>1</td>\n",
       "      <td>0</td>\n",
       "    </tr>\n",
       "    <tr>\n",
       "      <th>363</th>\n",
       "      <td>363</td>\n",
       "      <td>0</td>\n",
       "      <td>1</td>\n",
       "    </tr>\n",
       "    <tr>\n",
       "      <th>550</th>\n",
       "      <td>550</td>\n",
       "      <td>1</td>\n",
       "      <td>0</td>\n",
       "    </tr>\n",
       "    <tr>\n",
       "      <th>638</th>\n",
       "      <td>638</td>\n",
       "      <td>1</td>\n",
       "      <td>0</td>\n",
       "    </tr>\n",
       "    <tr>\n",
       "      <th>779</th>\n",
       "      <td>779</td>\n",
       "      <td>0</td>\n",
       "      <td>1</td>\n",
       "    </tr>\n",
       "    <tr>\n",
       "      <th>911</th>\n",
       "      <td>911</td>\n",
       "      <td>1</td>\n",
       "      <td>0</td>\n",
       "    </tr>\n",
       "    <tr>\n",
       "      <th>946</th>\n",
       "      <td>946</td>\n",
       "      <td>0</td>\n",
       "      <td>1</td>\n",
       "    </tr>\n",
       "    <tr>\n",
       "      <th>961</th>\n",
       "      <td>961</td>\n",
       "      <td>0</td>\n",
       "      <td>1</td>\n",
       "    </tr>\n",
       "    <tr>\n",
       "      <th>1114</th>\n",
       "      <td>1114</td>\n",
       "      <td>0</td>\n",
       "      <td>1</td>\n",
       "    </tr>\n",
       "    <tr>\n",
       "      <th>1344</th>\n",
       "      <td>1344</td>\n",
       "      <td>0</td>\n",
       "      <td>1</td>\n",
       "    </tr>\n",
       "    <tr>\n",
       "      <th>1366</th>\n",
       "      <td>1366</td>\n",
       "      <td>0</td>\n",
       "      <td>1</td>\n",
       "    </tr>\n",
       "    <tr>\n",
       "      <th>1651</th>\n",
       "      <td>1651</td>\n",
       "      <td>0</td>\n",
       "      <td>1</td>\n",
       "    </tr>\n",
       "    <tr>\n",
       "      <th>1770</th>\n",
       "      <td>1770</td>\n",
       "      <td>0</td>\n",
       "      <td>1</td>\n",
       "    </tr>\n",
       "    <tr>\n",
       "      <th>1793</th>\n",
       "      <td>1793</td>\n",
       "      <td>0</td>\n",
       "      <td>1</td>\n",
       "    </tr>\n",
       "    <tr>\n",
       "      <th>1945</th>\n",
       "      <td>1945</td>\n",
       "      <td>1</td>\n",
       "      <td>0</td>\n",
       "    </tr>\n",
       "    <tr>\n",
       "      <th>2035</th>\n",
       "      <td>2035</td>\n",
       "      <td>0</td>\n",
       "      <td>1</td>\n",
       "    </tr>\n",
       "    <tr>\n",
       "      <th>2076</th>\n",
       "      <td>2076</td>\n",
       "      <td>1</td>\n",
       "      <td>0</td>\n",
       "    </tr>\n",
       "    <tr>\n",
       "      <th>2228</th>\n",
       "      <td>2228</td>\n",
       "      <td>0</td>\n",
       "      <td>1</td>\n",
       "    </tr>\n",
       "    <tr>\n",
       "      <th>2449</th>\n",
       "      <td>2449</td>\n",
       "      <td>0</td>\n",
       "      <td>1</td>\n",
       "    </tr>\n",
       "    <tr>\n",
       "      <th>2502</th>\n",
       "      <td>2502</td>\n",
       "      <td>0</td>\n",
       "      <td>1</td>\n",
       "    </tr>\n",
       "    <tr>\n",
       "      <th>2507</th>\n",
       "      <td>2507</td>\n",
       "      <td>0</td>\n",
       "      <td>1</td>\n",
       "    </tr>\n",
       "    <tr>\n",
       "      <th>2600</th>\n",
       "      <td>2600</td>\n",
       "      <td>1</td>\n",
       "      <td>0</td>\n",
       "    </tr>\n",
       "    <tr>\n",
       "      <th>2668</th>\n",
       "      <td>2668</td>\n",
       "      <td>0</td>\n",
       "      <td>1</td>\n",
       "    </tr>\n",
       "    <tr>\n",
       "      <th>2791</th>\n",
       "      <td>2791</td>\n",
       "      <td>1</td>\n",
       "      <td>0</td>\n",
       "    </tr>\n",
       "    <tr>\n",
       "      <th>2878</th>\n",
       "      <td>2878</td>\n",
       "      <td>0</td>\n",
       "      <td>1</td>\n",
       "    </tr>\n",
       "    <tr>\n",
       "      <th>2955</th>\n",
       "      <td>2955</td>\n",
       "      <td>1</td>\n",
       "      <td>0</td>\n",
       "    </tr>\n",
       "    <tr>\n",
       "      <th>2992</th>\n",
       "      <td>2992</td>\n",
       "      <td>1</td>\n",
       "      <td>0</td>\n",
       "    </tr>\n",
       "    <tr>\n",
       "      <th>3258</th>\n",
       "      <td>3258</td>\n",
       "      <td>0</td>\n",
       "      <td>1</td>\n",
       "    </tr>\n",
       "    <tr>\n",
       "      <th>3456</th>\n",
       "      <td>3456</td>\n",
       "      <td>0</td>\n",
       "      <td>1</td>\n",
       "    </tr>\n",
       "    <tr>\n",
       "      <th>...</th>\n",
       "      <td>...</td>\n",
       "      <td>...</td>\n",
       "      <td>...</td>\n",
       "    </tr>\n",
       "    <tr>\n",
       "      <th>21090</th>\n",
       "      <td>21090</td>\n",
       "      <td>0</td>\n",
       "      <td>1</td>\n",
       "    </tr>\n",
       "    <tr>\n",
       "      <th>21149</th>\n",
       "      <td>21149</td>\n",
       "      <td>1</td>\n",
       "      <td>0</td>\n",
       "    </tr>\n",
       "    <tr>\n",
       "      <th>21286</th>\n",
       "      <td>21286</td>\n",
       "      <td>0</td>\n",
       "      <td>1</td>\n",
       "    </tr>\n",
       "    <tr>\n",
       "      <th>21407</th>\n",
       "      <td>21407</td>\n",
       "      <td>1</td>\n",
       "      <td>0</td>\n",
       "    </tr>\n",
       "    <tr>\n",
       "      <th>21417</th>\n",
       "      <td>21417</td>\n",
       "      <td>0</td>\n",
       "      <td>1</td>\n",
       "    </tr>\n",
       "    <tr>\n",
       "      <th>21450</th>\n",
       "      <td>21450</td>\n",
       "      <td>0</td>\n",
       "      <td>1</td>\n",
       "    </tr>\n",
       "    <tr>\n",
       "      <th>21504</th>\n",
       "      <td>21504</td>\n",
       "      <td>1</td>\n",
       "      <td>0</td>\n",
       "    </tr>\n",
       "    <tr>\n",
       "      <th>21795</th>\n",
       "      <td>21795</td>\n",
       "      <td>0</td>\n",
       "      <td>1</td>\n",
       "    </tr>\n",
       "    <tr>\n",
       "      <th>21879</th>\n",
       "      <td>21879</td>\n",
       "      <td>1</td>\n",
       "      <td>0</td>\n",
       "    </tr>\n",
       "    <tr>\n",
       "      <th>22029</th>\n",
       "      <td>22029</td>\n",
       "      <td>1</td>\n",
       "      <td>0</td>\n",
       "    </tr>\n",
       "    <tr>\n",
       "      <th>22164</th>\n",
       "      <td>22164</td>\n",
       "      <td>0</td>\n",
       "      <td>1</td>\n",
       "    </tr>\n",
       "    <tr>\n",
       "      <th>22347</th>\n",
       "      <td>22347</td>\n",
       "      <td>0</td>\n",
       "      <td>1</td>\n",
       "    </tr>\n",
       "    <tr>\n",
       "      <th>22409</th>\n",
       "      <td>22409</td>\n",
       "      <td>0</td>\n",
       "      <td>1</td>\n",
       "    </tr>\n",
       "    <tr>\n",
       "      <th>22603</th>\n",
       "      <td>22603</td>\n",
       "      <td>0</td>\n",
       "      <td>1</td>\n",
       "    </tr>\n",
       "    <tr>\n",
       "      <th>22756</th>\n",
       "      <td>22756</td>\n",
       "      <td>0</td>\n",
       "      <td>1</td>\n",
       "    </tr>\n",
       "    <tr>\n",
       "      <th>22817</th>\n",
       "      <td>22817</td>\n",
       "      <td>1</td>\n",
       "      <td>0</td>\n",
       "    </tr>\n",
       "    <tr>\n",
       "      <th>22917</th>\n",
       "      <td>22917</td>\n",
       "      <td>0</td>\n",
       "      <td>1</td>\n",
       "    </tr>\n",
       "    <tr>\n",
       "      <th>23592</th>\n",
       "      <td>23592</td>\n",
       "      <td>0</td>\n",
       "      <td>1</td>\n",
       "    </tr>\n",
       "    <tr>\n",
       "      <th>23595</th>\n",
       "      <td>23595</td>\n",
       "      <td>0</td>\n",
       "      <td>1</td>\n",
       "    </tr>\n",
       "    <tr>\n",
       "      <th>23610</th>\n",
       "      <td>23610</td>\n",
       "      <td>0</td>\n",
       "      <td>1</td>\n",
       "    </tr>\n",
       "    <tr>\n",
       "      <th>24301</th>\n",
       "      <td>24301</td>\n",
       "      <td>0</td>\n",
       "      <td>1</td>\n",
       "    </tr>\n",
       "    <tr>\n",
       "      <th>24360</th>\n",
       "      <td>24360</td>\n",
       "      <td>1</td>\n",
       "      <td>0</td>\n",
       "    </tr>\n",
       "    <tr>\n",
       "      <th>24498</th>\n",
       "      <td>24498</td>\n",
       "      <td>0</td>\n",
       "      <td>1</td>\n",
       "    </tr>\n",
       "    <tr>\n",
       "      <th>24523</th>\n",
       "      <td>24523</td>\n",
       "      <td>1</td>\n",
       "      <td>0</td>\n",
       "    </tr>\n",
       "    <tr>\n",
       "      <th>24577</th>\n",
       "      <td>24577</td>\n",
       "      <td>1</td>\n",
       "      <td>0</td>\n",
       "    </tr>\n",
       "    <tr>\n",
       "      <th>24578</th>\n",
       "      <td>24578</td>\n",
       "      <td>1</td>\n",
       "      <td>0</td>\n",
       "    </tr>\n",
       "    <tr>\n",
       "      <th>24580</th>\n",
       "      <td>24580</td>\n",
       "      <td>0</td>\n",
       "      <td>1</td>\n",
       "    </tr>\n",
       "    <tr>\n",
       "      <th>24808</th>\n",
       "      <td>24808</td>\n",
       "      <td>0</td>\n",
       "      <td>1</td>\n",
       "    </tr>\n",
       "    <tr>\n",
       "      <th>24918</th>\n",
       "      <td>24918</td>\n",
       "      <td>0</td>\n",
       "      <td>1</td>\n",
       "    </tr>\n",
       "    <tr>\n",
       "      <th>24979</th>\n",
       "      <td>24979</td>\n",
       "      <td>1</td>\n",
       "      <td>0</td>\n",
       "    </tr>\n",
       "  </tbody>\n",
       "</table>\n",
       "<p>163 rows × 3 columns</p>\n",
       "</div>"
      ],
      "text/plain": [
       "          Id  Predicted  Predicted2\n",
       "135      135          1           0\n",
       "174      174          1           0\n",
       "363      363          0           1\n",
       "550      550          1           0\n",
       "638      638          1           0\n",
       "779      779          0           1\n",
       "911      911          1           0\n",
       "946      946          0           1\n",
       "961      961          0           1\n",
       "1114    1114          0           1\n",
       "1344    1344          0           1\n",
       "1366    1366          0           1\n",
       "1651    1651          0           1\n",
       "1770    1770          0           1\n",
       "1793    1793          0           1\n",
       "1945    1945          1           0\n",
       "2035    2035          0           1\n",
       "2076    2076          1           0\n",
       "2228    2228          0           1\n",
       "2449    2449          0           1\n",
       "2502    2502          0           1\n",
       "2507    2507          0           1\n",
       "2600    2600          1           0\n",
       "2668    2668          0           1\n",
       "2791    2791          1           0\n",
       "2878    2878          0           1\n",
       "2955    2955          1           0\n",
       "2992    2992          1           0\n",
       "3258    3258          0           1\n",
       "3456    3456          0           1\n",
       "...      ...        ...         ...\n",
       "21090  21090          0           1\n",
       "21149  21149          1           0\n",
       "21286  21286          0           1\n",
       "21407  21407          1           0\n",
       "21417  21417          0           1\n",
       "21450  21450          0           1\n",
       "21504  21504          1           0\n",
       "21795  21795          0           1\n",
       "21879  21879          1           0\n",
       "22029  22029          1           0\n",
       "22164  22164          0           1\n",
       "22347  22347          0           1\n",
       "22409  22409          0           1\n",
       "22603  22603          0           1\n",
       "22756  22756          0           1\n",
       "22817  22817          1           0\n",
       "22917  22917          0           1\n",
       "23592  23592          0           1\n",
       "23595  23595          0           1\n",
       "23610  23610          0           1\n",
       "24301  24301          0           1\n",
       "24360  24360          1           0\n",
       "24498  24498          0           1\n",
       "24523  24523          1           0\n",
       "24577  24577          1           0\n",
       "24578  24578          1           0\n",
       "24580  24580          0           1\n",
       "24808  24808          0           1\n",
       "24918  24918          0           1\n",
       "24979  24979          1           0\n",
       "\n",
       "[163 rows x 3 columns]"
      ]
     },
     "execution_count": 1572,
     "metadata": {},
     "output_type": "execute_result"
    }
   ],
   "source": [
    "sub1[sub1[\"Predicted\"]!=sub1[\"Predicted2\"]]"
   ]
  },
  {
   "cell_type": "code",
   "execution_count": 1531,
   "metadata": {},
   "outputs": [
    {
     "data": {
      "text/html": [
       "<div>\n",
       "<style scoped>\n",
       "    .dataframe tbody tr th:only-of-type {\n",
       "        vertical-align: middle;\n",
       "    }\n",
       "\n",
       "    .dataframe tbody tr th {\n",
       "        vertical-align: top;\n",
       "    }\n",
       "\n",
       "    .dataframe thead th {\n",
       "        text-align: right;\n",
       "    }\n",
       "</style>\n",
       "<table border=\"1\" class=\"dataframe\">\n",
       "  <thead>\n",
       "    <tr style=\"text-align: right;\">\n",
       "      <th></th>\n",
       "      <th>Id</th>\n",
       "      <th>Predicted</th>\n",
       "      <th>Predicted2</th>\n",
       "    </tr>\n",
       "  </thead>\n",
       "  <tbody>\n",
       "    <tr>\n",
       "      <th>119</th>\n",
       "      <td>119</td>\n",
       "      <td>0</td>\n",
       "      <td>1</td>\n",
       "    </tr>\n",
       "    <tr>\n",
       "      <th>289</th>\n",
       "      <td>289</td>\n",
       "      <td>0</td>\n",
       "      <td>1</td>\n",
       "    </tr>\n",
       "    <tr>\n",
       "      <th>358</th>\n",
       "      <td>358</td>\n",
       "      <td>0</td>\n",
       "      <td>1</td>\n",
       "    </tr>\n",
       "    <tr>\n",
       "      <th>363</th>\n",
       "      <td>363</td>\n",
       "      <td>0</td>\n",
       "      <td>1</td>\n",
       "    </tr>\n",
       "    <tr>\n",
       "      <th>739</th>\n",
       "      <td>739</td>\n",
       "      <td>0</td>\n",
       "      <td>1</td>\n",
       "    </tr>\n",
       "    <tr>\n",
       "      <th>946</th>\n",
       "      <td>946</td>\n",
       "      <td>0</td>\n",
       "      <td>1</td>\n",
       "    </tr>\n",
       "    <tr>\n",
       "      <th>961</th>\n",
       "      <td>961</td>\n",
       "      <td>0</td>\n",
       "      <td>1</td>\n",
       "    </tr>\n",
       "    <tr>\n",
       "      <th>1112</th>\n",
       "      <td>1112</td>\n",
       "      <td>0</td>\n",
       "      <td>1</td>\n",
       "    </tr>\n",
       "    <tr>\n",
       "      <th>1366</th>\n",
       "      <td>1366</td>\n",
       "      <td>0</td>\n",
       "      <td>1</td>\n",
       "    </tr>\n",
       "    <tr>\n",
       "      <th>1651</th>\n",
       "      <td>1651</td>\n",
       "      <td>0</td>\n",
       "      <td>1</td>\n",
       "    </tr>\n",
       "    <tr>\n",
       "      <th>1770</th>\n",
       "      <td>1770</td>\n",
       "      <td>0</td>\n",
       "      <td>1</td>\n",
       "    </tr>\n",
       "    <tr>\n",
       "      <th>1793</th>\n",
       "      <td>1793</td>\n",
       "      <td>0</td>\n",
       "      <td>1</td>\n",
       "    </tr>\n",
       "    <tr>\n",
       "      <th>2035</th>\n",
       "      <td>2035</td>\n",
       "      <td>0</td>\n",
       "      <td>1</td>\n",
       "    </tr>\n",
       "    <tr>\n",
       "      <th>2228</th>\n",
       "      <td>2228</td>\n",
       "      <td>0</td>\n",
       "      <td>1</td>\n",
       "    </tr>\n",
       "    <tr>\n",
       "      <th>2502</th>\n",
       "      <td>2502</td>\n",
       "      <td>0</td>\n",
       "      <td>1</td>\n",
       "    </tr>\n",
       "    <tr>\n",
       "      <th>2571</th>\n",
       "      <td>2571</td>\n",
       "      <td>0</td>\n",
       "      <td>1</td>\n",
       "    </tr>\n",
       "    <tr>\n",
       "      <th>2878</th>\n",
       "      <td>2878</td>\n",
       "      <td>0</td>\n",
       "      <td>1</td>\n",
       "    </tr>\n",
       "    <tr>\n",
       "      <th>3286</th>\n",
       "      <td>3286</td>\n",
       "      <td>0</td>\n",
       "      <td>1</td>\n",
       "    </tr>\n",
       "    <tr>\n",
       "      <th>3429</th>\n",
       "      <td>3429</td>\n",
       "      <td>0</td>\n",
       "      <td>1</td>\n",
       "    </tr>\n",
       "    <tr>\n",
       "      <th>3456</th>\n",
       "      <td>3456</td>\n",
       "      <td>0</td>\n",
       "      <td>1</td>\n",
       "    </tr>\n",
       "    <tr>\n",
       "      <th>3704</th>\n",
       "      <td>3704</td>\n",
       "      <td>0</td>\n",
       "      <td>1</td>\n",
       "    </tr>\n",
       "    <tr>\n",
       "      <th>3887</th>\n",
       "      <td>3887</td>\n",
       "      <td>0</td>\n",
       "      <td>1</td>\n",
       "    </tr>\n",
       "    <tr>\n",
       "      <th>4197</th>\n",
       "      <td>4197</td>\n",
       "      <td>0</td>\n",
       "      <td>1</td>\n",
       "    </tr>\n",
       "    <tr>\n",
       "      <th>4234</th>\n",
       "      <td>4234</td>\n",
       "      <td>0</td>\n",
       "      <td>1</td>\n",
       "    </tr>\n",
       "    <tr>\n",
       "      <th>4358</th>\n",
       "      <td>4358</td>\n",
       "      <td>0</td>\n",
       "      <td>1</td>\n",
       "    </tr>\n",
       "    <tr>\n",
       "      <th>4363</th>\n",
       "      <td>4363</td>\n",
       "      <td>0</td>\n",
       "      <td>1</td>\n",
       "    </tr>\n",
       "    <tr>\n",
       "      <th>4391</th>\n",
       "      <td>4391</td>\n",
       "      <td>0</td>\n",
       "      <td>1</td>\n",
       "    </tr>\n",
       "    <tr>\n",
       "      <th>4634</th>\n",
       "      <td>4634</td>\n",
       "      <td>0</td>\n",
       "      <td>1</td>\n",
       "    </tr>\n",
       "    <tr>\n",
       "      <th>4820</th>\n",
       "      <td>4820</td>\n",
       "      <td>0</td>\n",
       "      <td>1</td>\n",
       "    </tr>\n",
       "    <tr>\n",
       "      <th>5006</th>\n",
       "      <td>5006</td>\n",
       "      <td>0</td>\n",
       "      <td>1</td>\n",
       "    </tr>\n",
       "    <tr>\n",
       "      <th>...</th>\n",
       "      <td>...</td>\n",
       "      <td>...</td>\n",
       "      <td>...</td>\n",
       "    </tr>\n",
       "    <tr>\n",
       "      <th>19093</th>\n",
       "      <td>19093</td>\n",
       "      <td>0</td>\n",
       "      <td>1</td>\n",
       "    </tr>\n",
       "    <tr>\n",
       "      <th>19241</th>\n",
       "      <td>19241</td>\n",
       "      <td>0</td>\n",
       "      <td>1</td>\n",
       "    </tr>\n",
       "    <tr>\n",
       "      <th>19413</th>\n",
       "      <td>19413</td>\n",
       "      <td>0</td>\n",
       "      <td>1</td>\n",
       "    </tr>\n",
       "    <tr>\n",
       "      <th>19529</th>\n",
       "      <td>19529</td>\n",
       "      <td>0</td>\n",
       "      <td>1</td>\n",
       "    </tr>\n",
       "    <tr>\n",
       "      <th>19609</th>\n",
       "      <td>19609</td>\n",
       "      <td>0</td>\n",
       "      <td>1</td>\n",
       "    </tr>\n",
       "    <tr>\n",
       "      <th>19709</th>\n",
       "      <td>19709</td>\n",
       "      <td>0</td>\n",
       "      <td>1</td>\n",
       "    </tr>\n",
       "    <tr>\n",
       "      <th>19759</th>\n",
       "      <td>19759</td>\n",
       "      <td>0</td>\n",
       "      <td>1</td>\n",
       "    </tr>\n",
       "    <tr>\n",
       "      <th>20091</th>\n",
       "      <td>20091</td>\n",
       "      <td>0</td>\n",
       "      <td>1</td>\n",
       "    </tr>\n",
       "    <tr>\n",
       "      <th>20613</th>\n",
       "      <td>20613</td>\n",
       "      <td>0</td>\n",
       "      <td>1</td>\n",
       "    </tr>\n",
       "    <tr>\n",
       "      <th>20625</th>\n",
       "      <td>20625</td>\n",
       "      <td>0</td>\n",
       "      <td>1</td>\n",
       "    </tr>\n",
       "    <tr>\n",
       "      <th>20828</th>\n",
       "      <td>20828</td>\n",
       "      <td>0</td>\n",
       "      <td>1</td>\n",
       "    </tr>\n",
       "    <tr>\n",
       "      <th>21417</th>\n",
       "      <td>21417</td>\n",
       "      <td>0</td>\n",
       "      <td>1</td>\n",
       "    </tr>\n",
       "    <tr>\n",
       "      <th>21431</th>\n",
       "      <td>21431</td>\n",
       "      <td>0</td>\n",
       "      <td>1</td>\n",
       "    </tr>\n",
       "    <tr>\n",
       "      <th>21450</th>\n",
       "      <td>21450</td>\n",
       "      <td>0</td>\n",
       "      <td>1</td>\n",
       "    </tr>\n",
       "    <tr>\n",
       "      <th>22409</th>\n",
       "      <td>22409</td>\n",
       "      <td>0</td>\n",
       "      <td>1</td>\n",
       "    </tr>\n",
       "    <tr>\n",
       "      <th>22523</th>\n",
       "      <td>22523</td>\n",
       "      <td>0</td>\n",
       "      <td>1</td>\n",
       "    </tr>\n",
       "    <tr>\n",
       "      <th>22603</th>\n",
       "      <td>22603</td>\n",
       "      <td>0</td>\n",
       "      <td>1</td>\n",
       "    </tr>\n",
       "    <tr>\n",
       "      <th>22756</th>\n",
       "      <td>22756</td>\n",
       "      <td>0</td>\n",
       "      <td>1</td>\n",
       "    </tr>\n",
       "    <tr>\n",
       "      <th>22917</th>\n",
       "      <td>22917</td>\n",
       "      <td>0</td>\n",
       "      <td>1</td>\n",
       "    </tr>\n",
       "    <tr>\n",
       "      <th>23084</th>\n",
       "      <td>23084</td>\n",
       "      <td>0</td>\n",
       "      <td>1</td>\n",
       "    </tr>\n",
       "    <tr>\n",
       "      <th>23086</th>\n",
       "      <td>23086</td>\n",
       "      <td>0</td>\n",
       "      <td>1</td>\n",
       "    </tr>\n",
       "    <tr>\n",
       "      <th>23178</th>\n",
       "      <td>23178</td>\n",
       "      <td>0</td>\n",
       "      <td>1</td>\n",
       "    </tr>\n",
       "    <tr>\n",
       "      <th>23595</th>\n",
       "      <td>23595</td>\n",
       "      <td>0</td>\n",
       "      <td>1</td>\n",
       "    </tr>\n",
       "    <tr>\n",
       "      <th>23610</th>\n",
       "      <td>23610</td>\n",
       "      <td>0</td>\n",
       "      <td>1</td>\n",
       "    </tr>\n",
       "    <tr>\n",
       "      <th>24301</th>\n",
       "      <td>24301</td>\n",
       "      <td>0</td>\n",
       "      <td>1</td>\n",
       "    </tr>\n",
       "    <tr>\n",
       "      <th>24473</th>\n",
       "      <td>24473</td>\n",
       "      <td>0</td>\n",
       "      <td>1</td>\n",
       "    </tr>\n",
       "    <tr>\n",
       "      <th>24498</th>\n",
       "      <td>24498</td>\n",
       "      <td>0</td>\n",
       "      <td>1</td>\n",
       "    </tr>\n",
       "    <tr>\n",
       "      <th>24580</th>\n",
       "      <td>24580</td>\n",
       "      <td>0</td>\n",
       "      <td>1</td>\n",
       "    </tr>\n",
       "    <tr>\n",
       "      <th>24765</th>\n",
       "      <td>24765</td>\n",
       "      <td>0</td>\n",
       "      <td>1</td>\n",
       "    </tr>\n",
       "    <tr>\n",
       "      <th>24918</th>\n",
       "      <td>24918</td>\n",
       "      <td>0</td>\n",
       "      <td>1</td>\n",
       "    </tr>\n",
       "  </tbody>\n",
       "</table>\n",
       "<p>127 rows × 3 columns</p>\n",
       "</div>"
      ],
      "text/plain": [
       "          Id  Predicted  Predicted2\n",
       "119      119          0           1\n",
       "289      289          0           1\n",
       "358      358          0           1\n",
       "363      363          0           1\n",
       "739      739          0           1\n",
       "946      946          0           1\n",
       "961      961          0           1\n",
       "1112    1112          0           1\n",
       "1366    1366          0           1\n",
       "1651    1651          0           1\n",
       "1770    1770          0           1\n",
       "1793    1793          0           1\n",
       "2035    2035          0           1\n",
       "2228    2228          0           1\n",
       "2502    2502          0           1\n",
       "2571    2571          0           1\n",
       "2878    2878          0           1\n",
       "3286    3286          0           1\n",
       "3429    3429          0           1\n",
       "3456    3456          0           1\n",
       "3704    3704          0           1\n",
       "3887    3887          0           1\n",
       "4197    4197          0           1\n",
       "4234    4234          0           1\n",
       "4358    4358          0           1\n",
       "4363    4363          0           1\n",
       "4391    4391          0           1\n",
       "4634    4634          0           1\n",
       "4820    4820          0           1\n",
       "5006    5006          0           1\n",
       "...      ...        ...         ...\n",
       "19093  19093          0           1\n",
       "19241  19241          0           1\n",
       "19413  19413          0           1\n",
       "19529  19529          0           1\n",
       "19609  19609          0           1\n",
       "19709  19709          0           1\n",
       "19759  19759          0           1\n",
       "20091  20091          0           1\n",
       "20613  20613          0           1\n",
       "20625  20625          0           1\n",
       "20828  20828          0           1\n",
       "21417  21417          0           1\n",
       "21431  21431          0           1\n",
       "21450  21450          0           1\n",
       "22409  22409          0           1\n",
       "22523  22523          0           1\n",
       "22603  22603          0           1\n",
       "22756  22756          0           1\n",
       "22917  22917          0           1\n",
       "23084  23084          0           1\n",
       "23086  23086          0           1\n",
       "23178  23178          0           1\n",
       "23595  23595          0           1\n",
       "23610  23610          0           1\n",
       "24301  24301          0           1\n",
       "24473  24473          0           1\n",
       "24498  24498          0           1\n",
       "24580  24580          0           1\n",
       "24765  24765          0           1\n",
       "24918  24918          0           1\n",
       "\n",
       "[127 rows x 3 columns]"
      ]
     },
     "execution_count": 1531,
     "metadata": {},
     "output_type": "execute_result"
    }
   ],
   "source": [
    "sub1[sub1[\"Predicted\"]!=sub1[\"Predicted2\"]]"
   ]
  },
  {
   "cell_type": "code",
   "execution_count": null,
   "metadata": {},
   "outputs": [],
   "source": []
  }
 ],
 "metadata": {
  "kernelspec": {
   "display_name": "Python [conda env:promed]",
   "language": "python",
   "name": "conda-env-promed-py"
  },
  "language_info": {
   "codemirror_mode": {
    "name": "ipython",
    "version": 3
   },
   "file_extension": ".py",
   "mimetype": "text/x-python",
   "name": "python",
   "nbconvert_exporter": "python",
   "pygments_lexer": "ipython3",
   "version": "3.6.8"
  }
 },
 "nbformat": 4,
 "nbformat_minor": 4
}
